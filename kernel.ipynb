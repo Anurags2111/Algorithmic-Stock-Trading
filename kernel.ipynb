{
  "cells": [
    {
      "metadata": {
        "_uuid": "8f2839f25d086af736a60e9eeb907d3b93b6e0e5",
        "_cell_guid": "b1076dfc-b9ad-4769-8c92-a6c4dae69d19",
        "trusted": true,
        "collapsed": true
      },
      "cell_type": "code",
      "source": "# This Python 3 environment comes with many helpful analytics libraries installed\n# It is defined by the kaggle/python docker image: https://github.com/kaggle/docker-python\n# For example, here's several helpful packages to load in \n\nimport numpy as np # linear algebra\nimport pandas as pd # data processing, CSV file I/O (e.g. pd.read_csv)\n\n# Input data files are available in the \"../input/\" directory.\n# For example, running this (by clicking run or pressing Shift+Enter) will list the files in the input directory\n\nimport os\nprint(os.listdir(\"../input\"))\n\n# Any results you write to the current directory are saved as output.",
      "execution_count": null,
      "outputs": []
    },
    {
      "metadata": {
        "_cell_guid": "79c7e3d0-c299-4dcb-8224-4455121ee9b0",
        "_uuid": "d629ff2d2480ee46fbb7e2d37f6b5fab8052498a",
        "trusted": true,
        "scrolled": false,
        "collapsed": true
      },
      "cell_type": "code",
      "source": "import numpy as np\nimport pandas as pd\nimport matplotlib.pyplot as plt\nfrom sklearn.preprocessing import MinMaxScaler\nfrom keras.models import Sequential\nfrom keras.layers import Dense\nfrom keras.layers import LSTM\nfrom keras.layers import Dropout, Activation\n\n#json file contents\nfilter_cols = [\"Open\", \"Close\", \"Volume_(BTC)\", \"Volume_(Currency)\"]\n\nsample = 20\nx_window_size = 50\ny_window_size = 1\ny_column = \"Close\"\n\nnbepochs = 4\ncounter_range = 80\nbatch_size_ = 100\n\ndown = 0\n\ndf = pd.DataFrame(columns = ['Timestamp', 'Price', 'Return', 'Action'])\ntimestamp = []\ncur_time = []\nbtcp = []\nbtcp_pred = []\n\nxbuy = []\nxsell = []\nbp = []\nsp = []\nYY = []\nReturn = []\naction = []\ntradeprice = []\nclose = []\nplane = []\n\n\ndataset = pd.read_csv('../input/coinbaseUSD_1-min_data_2014-12-01_to_2018-06-27.csv')\ndataset = dataset[['Timestamp', 'Close', 'Open' ,'High', 'Low', 'Volume_(BTC)', 'Volume_(Currency)', 'Weighted_Price']]\ndataset = dataset[::sample]\ndataset = dataset.reset_index(drop = True)\n\n\n\ncounter = 0\nbuy = 0\nfor counter in range(counter_range):\n    \n    up = down + 1150\n    print(\"***counter = \", counter, \" /\", counter_range, \" **down = \", down, \" **up = \", up)\n    data = dataset[down:up]\n    data = data.reset_index(drop = True)\n    \n    time = data['Timestamp'][-100:].values\n    realtime = data['Timestamp']\n\n    \n    if (filter_cols):\n        # Remove any columns from data that we don't need by getting the difference between cols and filter list\n        rm_cols = set(data.columns) - set(filter_cols)\n        for col in rm_cols:\n            del data[col]\n    \n    # Convert y-predict column name to numerical index\n    y_col = list(data.columns).index(y_column)\n    \n    x_train = data[:-100].reset_index(drop = True)\n    x_test = data[-100:].reset_index(drop = True)\n    y_test = data['Close'][-100:].reset_index(drop = True)\n    \n    #present_price = x_train['Close'][len(x_train)-1]\n    \n    x_col = x_train.columns\n    \n    sc_X = MinMaxScaler(feature_range=(0, 1))\n    x_train = sc_X.fit_transform(x_train)\n    x_test = sc_X.transform(x_test)\n    \n    #present_price_scaled = x_t['Close'][len(x_train)-1]\n    \n    x_train = pd.DataFrame(data=x_train, columns=x_col)\n    x_test = pd.DataFrame(data=x_test, columns=x_col)\n    \n    \n    y_test_scaled = x_test['Close'][-100:]\n    \n    num_rows = len(x_train)\n    x_data = []\n    y_data = []\n    i = 0\n    while ((i + x_window_size + y_window_size) <= num_rows):\n        x_window_data = x_train[i:(i + x_window_size)]\n        y_window_data = x_train[(i + x_window_size):(i + x_window_size + y_window_size)]\n        \n        y_average = np.average(y_window_data.values[:, y_col])\n        x_data.append(x_window_data.values)\n        y_data.append(y_average)\n        i += 1\n        \n    x_np_arr = np.array(x_data)\n    y_np_arr = np.array(y_data)\n    \n    #=================================================================================\n    model = Sequential()\n    model.add(LSTM(input_dim = 4, output_dim=20, return_sequences=True))\n    model.add(Dropout(0.2))\n    model.add(LSTM(20, return_sequences=False))\n    model.add(Dropout(0.2))\n    model.add(Dense(output_dim = 1))\n    model.add(Activation(\"tanh\"))\n    model.compile(loss = \"mse\", optimizer = \"Nadam\")\n    history = model.fit(x_np_arr, y_np_arr, validation_split=0.2, epochs = nbepochs, batch_size = batch_size_)\n    \n    \n    dataset_total = pd.concat((x_train, x_test), axis = 0)\n    test = dataset_total[-100-x_window_size:]\n    test = test.reset_index(drop = True)\n    num_rows = len(test)\n    x_data = []\n    i = 0\n#    while ((i + x_window_size) <= num_rows):\n#        print(i)\n#        test_window = test[i:(i + x_window_size)]\n#        x_data.append(test_window.values)\n#        i += 1\n    \n    for i in range(num_rows-100, num_rows):\n        test_window = test[i - x_window_size+1 : i+1]\n        x_data.append(test_window.values)       \n        \n    x_test_arr = np.array(x_data)\n    \n    y_test_scaled = y_test_scaled[1:].reset_index(drop = True)\n    y_test = y_test[1:].reset_index(drop = True)\n    \n    x_test_arr = x_test_arr[:-1]\n    time = time[:-1].reshape(-1,1)\n    if counter == 0:\n        timestamp = time\n    else:\n        timestamp = np.concatenate((timestamp, time), axis = 0)\n    timestamp = timestamp.astype(int)\n    \n    predicted_price = model.predict(x_test_arr).reshape(-1)\n    predicted_price_df = pd.DataFrame(data = predicted_price, columns = ['Close'])\n    \n    y_test_scaled_df = pd.DataFrame(y_test_scaled)\n    y_test_df = pd.DataFrame(y_test)\n    \n    #------------------------------------------------------------------------------\n    ret_pred = (predicted_price_df['Close'] / x_test['Close'][:-1] - 1) * 10000\n    \n    #ret_real = (x_test['Close'].shift(-1) / x_test['Close'] - 1) * 10000\n    \n    #plt.plot(ret_pred, color = 'r')\n    #plt.plot(ret_real, color = 'g')\n    #plt.show()\n    \n    timestamp = pd.DataFrame(data = timestamp, columns = ['Timestamp'])\n    strength = np.percentile(ret_pred, 99.9)\n    \n    btcp = y_test.values\n    \n    \n    for var in range(len(ret_pred)):\n        \n        timeline = counter * 99 + var\n        \n        if ret_pred[var] > strength and buy == 0: # BUY\n            Return.append(ret_pred[var])\n            action.append('Bought')\n            xbuy.append(timeline)\n            #plane.append(timeline)\n            bp.append(btcp[var])\n            tradeprice.append(btcp[var])\n            cur_time.append(time[var][0])\n            buy = 1\n        \n        elif ret_pred[var] < -strength and buy == 1: # SELL\n            Return.append(ret_pred[var])\n            action.append('Sold')\n            xsell.append(timeline)\n            #plane.append(timeline)\n            sp.append(btcp[var])\n            tradeprice.append(btcp[var])\n            cur_time.append(time[var][0])\n            buy = 0\n\n    YY = np.concatenate((YY, btcp), axis = 0)\n    down = down+100\n\nplt.figure(figsize = (20, 10))\nax0 = plt.plot(YY, color = 'orange', linewidth = 0.8)\nax1 = plt.scatter(xbuy, bp, color='g') #buy\nax2 = plt.scatter(xsell, sp, color='r') #sell\nplt.legend((ax0, ax1, ax2), ('BTC_Price', 'Bought', 'Sold'))\n\n\ndf['Timestamp'] = cur_time\ndf['Price'] =  tradeprice\ndf['Return'] =  Return\ndf['Action'] = action\n",
      "execution_count": null,
      "outputs": []
    },
    {
      "metadata": {
        "trusted": true,
        "collapsed": true,
        "_uuid": "fc8c1d24e4c03d5f04a54dba68907c619b9f97d1"
      },
      "cell_type": "code",
      "source": "",
      "execution_count": null,
      "outputs": []
    },
    {
      "metadata": {
        "trusted": true,
        "_uuid": "b9c12711c297790545e8fa809b8891cb1aeab00c",
        "collapsed": true
      },
      "cell_type": "code",
      "source": "#====================================** TRADE SHEET **======================================================================\n\n\nTS = pd.DataFrame(columns = ['Timestamp', 'Price','Action','Position','TradeQ',\n                             'Cash','BTC_Amt','Cu_Credit','Cu_Debit',\n                             'Trade','Turnover','PNL','PNLperTrade'])\n\npos = []\nAction = []\nPNL = []\nPrice = []\ntradq = []\ntrade = []\nturn = []\nCash = []\nbtcamt = []\nCC = []\nCD = []\np_ = 0\npb_ = 0\nps_ = 0\nr = 0\ncur_pro = 0\nmon = 0\nbtc = 0\ncredit = 0\ndebit =0\ncumcredit = 0\ncumdebit = 0\nq1 = 0\nq2 = 0\ncur_trade = 0\npre_trade = 0\nprev = 0\npnl = 0\nQ = 0\ntime_ = []\n\n\nfor var in range(len(df)):\n\n    btcp = df['Price'][var]\n    # Buying\n    if df['Action'][var] == 'Bought':\n        time_.append(df['Timestamp'][var])\n        Action.append('Bought')\n        Price.append(btcp)\n        p_ = 1\n        btc = 1\n        pos.append(p_)\n        if r == 0:\n            q2 = 1\n            r = 1\n        else:\n            q2 = p_\n        \n        Q = q2-q1\n        tradq.append(Q)\n        q1 = q2\n        mon -= btcp*Q\n        Cash.append(mon)\n        btcamt.append(p_*btcp)\n        debit = (btcp*Q)\n        cumdebit += debit\n        CD.append(cumdebit)\n        CC.append(cumcredit)\n        trade.append(credit+debit)\n        turn.append(cumcredit+cumdebit)\n        pnl = cumcredit - cumdebit + p_*btcp\n        PNL.append(pnl)\n\n    # Selling\n    if df['Action'][var] == 'Sold':\n        time_.append(df['Timestamp'][var])\n        Action.append('Sold')\n        Price.append(btcp)\n        p_ = -1\n        btc = 0\n        pos.append(p_)\n        q2 = p_        \n        Q = q2 - q1\n        tradq.append(Q)\n        q1 = q2\n        mon += btcp*(-Q)\n        Cash.append(mon)\n        btcamt.append(p_*btcp)\n        credit = (btcp*(-Q))\n        cumcredit += credit\n        CC.append(cumcredit)\n        CD.append(cumdebit)\n        trade.append(credit+debit)\n        turn.append(cumcredit+cumdebit)\n        pnl = cumcredit - cumdebit + p_*btcp\n        PNL.append(pnl)\n\nTS['Timestamp'] = time_\nTS['Price'] = Price\nTS['Action'] = Action\nTS['Position'] = pos\n\nTS['Cash'] = Cash\nTS['BTC_Amt'] = btcamt\ntradq = pd.Series(tradq)\nTS['TradeQ'] = tradq\nTS['Cu_Credit'] = CC\nTS['Cu_Debit'] = CD\n\nTS['Trade'] = trade\nTS['PNL'] = PNL\nTS['Turnover'] = turn\n\nTS['PNLperTrade'] = TS['PNL'] / TS['Turnover']\nTS['trans_cost'] = TS['Turnover'] * (0.3/100)\nTS['PnL_after_TC'] = TS['PNL'] - TS['trans_cost']\n\nplt.figure(figsize = (20, 10))\nplt.plot(TS['PnL_after_TC'])\nplt.plot(TS['PNL'])\nplt.legend()\nplt.savefig('PNL.png')\nplt.show()",
      "execution_count": null,
      "outputs": []
    },
    {
      "metadata": {
        "trusted": true,
        "_uuid": "d947e96ae0dd5ded2e79fd8b9b93165c1ecb88c8",
        "collapsed": true
      },
      "cell_type": "code",
      "source": "TS",
      "execution_count": null,
      "outputs": []
    },
    {
      "metadata": {
        "trusted": true,
        "collapsed": true,
        "_uuid": "36cf1855d9f511a2f312f4cced9399916084552d"
      },
      "cell_type": "code",
      "source": "TS.to_csv('TS_init.csv', index = False)",
      "execution_count": null,
      "outputs": []
    },
    {
      "metadata": {
        "trusted": true,
        "collapsed": true,
        "_uuid": "a32ca9ab245bf8448c45cdbcb44a4437d6dd366d"
      },
      "cell_type": "code",
      "source": "dur = TS['Timestamp'].shift(-1) - TS['Timestamp']",
      "execution_count": null,
      "outputs": []
    },
    {
      "metadata": {
        "trusted": true,
        "_uuid": "d4f9be9ff53000105c21e32397c06381f9c52ae9",
        "collapsed": true
      },
      "cell_type": "code",
      "source": "dur.describe()",
      "execution_count": null,
      "outputs": []
    },
    {
      "metadata": {
        "trusted": true,
        "collapsed": true,
        "_uuid": "ba7bb81becc38ddce41b941038d8dfc54d7f46c4"
      },
      "cell_type": "code",
      "source": "",
      "execution_count": null,
      "outputs": []
    },
    {
      "metadata": {
        "trusted": true,
        "collapsed": true,
        "_uuid": "5d4165ecbea3964b268e1a17e0c9a30b82a1915f"
      },
      "cell_type": "code",
      "source": "",
      "execution_count": null,
      "outputs": []
    }
  ],
  "metadata": {
    "kernelspec": {
      "display_name": "Python 3",
      "language": "python",
      "name": "python3"
    },
    "language_info": {
      "name": "python",
      "version": "3.6.4",
      "mimetype": "text/x-python",
      "codemirror_mode": {
        "name": "ipython",
        "version": 3
      },
      "pygments_lexer": "ipython3",
      "nbconvert_exporter": "python",
      "file_extension": ".py"
    }
  },
  "nbformat": 4,
  "nbformat_minor": 1
}